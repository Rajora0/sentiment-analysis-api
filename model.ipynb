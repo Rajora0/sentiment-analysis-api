{
 "cells": [
  {
   "cell_type": "code",
   "execution_count": null,
   "metadata": {},
   "outputs": [],
   "source": [
    "from transformers import pipeline"
   ]
  },
  {
   "cell_type": "code",
   "execution_count": null,
   "metadata": {},
   "outputs": [],
   "source": [
    "# Load the sentiment analysis model\n",
    "classifier = pipeline('sentiment-analysis')"
   ]
  },
  {
   "cell_type": "code",
   "execution_count": 2,
   "metadata": {},
   "outputs": [],
   "source": [
    "# Define a function to analyze the sentiment of a given text\n",
    "def analyze_sentiment(text):\n",
    "    \"\"\"\n",
    "    Analyzes the sentiment of a given text.\n",
    "\n",
    "    Args:\n",
    "    text: The text to analyze.\n",
    "\n",
    "    Returns:\n",
    "    A dictionary containing the sentiment label and score.\n",
    "    \"\"\"\n",
    "\n",
    "    result = classifier(text)[0]\n",
    "    return {'label': result['label'], 'score': result['score']}\n"
   ]
  },
  {
   "cell_type": "code",
   "execution_count": 3,
   "metadata": {},
   "outputs": [
    {
     "name": "stdout",
     "output_type": "stream",
     "text": [
      "Text: This is a great movie! I highly recommend it.\n",
      "Sentiment: POSITIVE (Score: 1.00)\n"
     ]
    }
   ],
   "source": [
    "# Example usage\n",
    "text = \"This is a great movie! I highly recommend it.\"\n",
    "sentiment = analyze_sentiment(text)\n",
    "\n",
    "# Print the sentiment analysis results\n",
    "print(f\"Text: {text}\")\n",
    "print(f\"Sentiment: {sentiment['label']} (Score: {sentiment['score']:.2f})\")"
   ]
  }
 ],
 "metadata": {
  "kernelspec": {
   "display_name": "api-sentimentos-env",
   "language": "python",
   "name": "python3"
  },
  "language_info": {
   "codemirror_mode": {
    "name": "ipython",
    "version": 3
   },
   "file_extension": ".py",
   "mimetype": "text/x-python",
   "name": "python",
   "nbconvert_exporter": "python",
   "pygments_lexer": "ipython3",
   "version": "3.10.14"
  }
 },
 "nbformat": 4,
 "nbformat_minor": 2
}
