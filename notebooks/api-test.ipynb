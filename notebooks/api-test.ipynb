{
 "cells": [
  {
   "cell_type": "code",
   "execution_count": 1,
   "metadata": {},
   "outputs": [],
   "source": [
    "import requests"
   ]
  },
  {
   "cell_type": "code",
   "execution_count": 2,
   "metadata": {},
   "outputs": [],
   "source": [
    "# URL of your Flask API (make sure it's running)\n",
    "api_url = 'http://127.0.0.1:5000/predict'\n",
    "\n",
    "# Example texts for sentiment analysis\n",
    "texts = [\n",
    "    \"This movie was absolutely amazing! I loved every minute of it.\",\n",
    "    \"What a horrible day! Nothing is going right.\",\n",
    "    \"I'm feeling neutral about this. It's not good or bad.\"\n",
    "]"
   ]
  },
  {
   "cell_type": "code",
   "execution_count": 3,
   "metadata": {},
   "outputs": [
    {
     "name": "stdout",
     "output_type": "stream",
     "text": [
      "Text: This movie was absolutely amazing! I loved every minute of it.\n",
      "Sentiment: POSITIVE (Score: 1.00)\n",
      "------------------------------\n",
      "Text: What a horrible day! Nothing is going right.\n",
      "Sentiment: NEGATIVE (Score: 1.00)\n",
      "------------------------------\n",
      "Text: I'm feeling neutral about this. It's not good or bad.\n",
      "Sentiment: NEGATIVE (Score: 1.00)\n",
      "------------------------------\n"
     ]
    }
   ],
   "source": [
    "# Make API calls for each text\n",
    "for text in texts:\n",
    "    data = {'text': text}\n",
    "    response = requests.post(api_url, json=data)\n",
    "\n",
    "    # Process the API response\n",
    "    if response.status_code == 200:\n",
    "        result = response.json()\n",
    "        print(f\"Text: {result['text']}\")\n",
    "        print(f\"Sentiment: {result['sentiment']} (Score: {result['score']:.2f})\")\n",
    "        print(\"-\" * 30)\n",
    "    else:\n",
    "        print(f\"Request error: {response.status_code}\")"
   ]
  }
 ],
 "metadata": {
  "kernelspec": {
   "display_name": "api-sentimentos-env",
   "language": "python",
   "name": "python3"
  },
  "language_info": {
   "codemirror_mode": {
    "name": "ipython",
    "version": 3
   },
   "file_extension": ".py",
   "mimetype": "text/x-python",
   "name": "python",
   "nbconvert_exporter": "python",
   "pygments_lexer": "ipython3",
   "version": "3.10.14"
  }
 },
 "nbformat": 4,
 "nbformat_minor": 2
}
