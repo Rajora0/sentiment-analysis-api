{
 "cells": [
  {
   "cell_type": "code",
   "execution_count": 1,
   "metadata": {},
   "outputs": [
    {
     "name": "stderr",
     "output_type": "stream",
     "text": [
      "/home/rafael/.pyenv/versions/3.10.14/envs/api-sentimentos-env/lib/python3.10/site-packages/tqdm/auto.py:21: TqdmWarning: IProgress not found. Please update jupyter and ipywidgets. See https://ipywidgets.readthedocs.io/en/stable/user_install.html\n",
      "  from .autonotebook import tqdm as notebook_tqdm\n"
     ]
    }
   ],
   "source": [
    "import torch\n",
    "from transformers import pipeline\n",
    "from transformers import AutoTokenizer\n",
    "from transformers import AutoModelForSequenceClassification"
   ]
  },
  {
   "cell_type": "code",
   "execution_count": 2,
   "metadata": {},
   "outputs": [
    {
     "name": "stderr",
     "output_type": "stream",
     "text": [
      "No model was supplied, defaulted to distilbert/distilbert-base-uncased-finetuned-sst-2-english and revision af0f99b (https://huggingface.co/distilbert/distilbert-base-uncased-finetuned-sst-2-english).\n",
      "Using a pipeline without specifying a model name and revision in production is not recommended.\n",
      "Hardware accelerator e.g. GPU is available in the environment, but no `device` argument is passed to the `Pipeline` object. Model will be on CPU.\n"
     ]
    }
   ],
   "source": [
    "# Load the sentiment analysis model\n",
    "classifier = pipeline('sentiment-analysis')"
   ]
  },
  {
   "cell_type": "code",
   "execution_count": 3,
   "metadata": {},
   "outputs": [],
   "source": [
    "# Define a function to analyze the sentiment of a given text\n",
    "def analyze_sentiment(text):\n",
    "    \"\"\"\n",
    "    Analyzes the sentiment of a given text.\n",
    "\n",
    "    Args:\n",
    "    text: The text to analyze.\n",
    "\n",
    "    Returns:\n",
    "    A dictionary containing the sentiment label and score.\n",
    "    \"\"\"\n",
    "\n",
    "    result = classifier(text)[0]\n",
    "    return {'label': result['label'], 'score': result['score']}\n"
   ]
  },
  {
   "cell_type": "code",
   "execution_count": 4,
   "metadata": {},
   "outputs": [
    {
     "name": "stdout",
     "output_type": "stream",
     "text": [
      "Text: This is a great movie! I highly recommend it.\n",
      "Sentiment: POSITIVE (Score: 1.00)\n"
     ]
    }
   ],
   "source": [
    "# Example usage\n",
    "text = \"This is a great movie! I highly recommend it.\"\n",
    "sentiment = analyze_sentiment(text)\n",
    "\n",
    "# Print the sentiment analysis results\n",
    "print(f\"Text: {text}\")\n",
    "print(f\"Sentiment: {sentiment['label']} (Score: {sentiment['score']:.2f})\")"
   ]
  },
  {
   "cell_type": "code",
   "execution_count": 5,
   "metadata": {},
   "outputs": [],
   "source": [
    "# Carregar o modelo e o tokenizador\n",
    "model_name = \"distilbert-base-uncased-finetuned-sst-2-english\"\n",
    "tokenizer = AutoTokenizer.from_pretrained(model_name)\n",
    "model = AutoModelForSequenceClassification.from_pretrained(model_name)"
   ]
  },
  {
   "cell_type": "code",
   "execution_count": 6,
   "metadata": {},
   "outputs": [],
   "source": [
    "# Quantize the model\n",
    "quantized_model = torch.quantization.quantize_dynamic(\n",
    "    model, {torch.nn.Linear}, dtype=torch.qint8\n",
    ")"
   ]
  },
  {
   "cell_type": "code",
   "execution_count": 7,
   "metadata": {},
   "outputs": [
    {
     "name": "stderr",
     "output_type": "stream",
     "text": [
      "Hardware accelerator e.g. GPU is available in the environment, but no `device` argument is passed to the `Pipeline` object. Model will be on CPU.\n"
     ]
    },
    {
     "name": "stdout",
     "output_type": "stream",
     "text": [
      "Text: This is a fantastic day!\n",
      "Sentiment: POSITIVE (Score: 1.00)\n"
     ]
    }
   ],
   "source": [
    "# Criar o pipeline com o modelo quantizado\n",
    "classifier = pipeline('sentiment-analysis', model=quantized_model, tokenizer=tokenizer)\n",
    "\n",
    "# Exemplo de uso\n",
    "text = \"This is a fantastic day!\"\n",
    "sentiment = classifier(text)[0]\n",
    "\n",
    "# Imprimir os resultados da análise de sentimento\n",
    "print(f\"Text: {text}\")\n",
    "print(f\"Sentiment: {sentiment['label']} (Score: {sentiment['score']:.2f})\")"
   ]
  }
 ],
 "metadata": {
  "kernelspec": {
   "display_name": "api-sentimentos-env",
   "language": "python",
   "name": "python3"
  },
  "language_info": {
   "codemirror_mode": {
    "name": "ipython",
    "version": 3
   },
   "file_extension": ".py",
   "mimetype": "text/x-python",
   "name": "python",
   "nbconvert_exporter": "python",
   "pygments_lexer": "ipython3",
   "version": "3.10.14"
  }
 },
 "nbformat": 4,
 "nbformat_minor": 2
}
